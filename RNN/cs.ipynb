{
 "cells": [
  {
   "cell_type": "code",
   "execution_count": 17,
   "metadata": {},
   "outputs": [],
   "source": [
    "def loadFile(dataPath,labelPath):\n",
    "    dataList = []\n",
    "    #打开文件：以二进制读模式、utf-8格式的编码方式打开\n",
    "    frData = open(dataPath)\n",
    "    frLabel = open(labelPath)\n",
    "    dataRecord = frData.read()\n",
    "    labelRecord = frLabel.read()\n",
    "    # print(record)\n",
    "    frData.close()\n",
    "    frLabel.close()\n",
    "    #按照行转换为一维表即包含各行作为元素的列表，分隔符有'\\r', '\\r\\n', \\n'\n",
    "    dataRecordList = dataRecord.splitlines()\n",
    "    labelRecordList=labelRecord.splitlines()\n",
    "    #逐行遍历：行内字段按'\\t'分隔符分隔，转换为列表\n",
    "    for line in dataRecordList:\n",
    "        if line.strip():\n",
    "            a=line.split('\\t')\n",
    "            a.pop()\n",
    "            a=list(map(float, a))\n",
    "            dataList.append(a)\n",
    "\n",
    "            # dataList.append(list(line.split(\"\\t\")))\n",
    "    #返回转换后的矩阵\n",
    "    x = np.array(dataList)\n",
    "    y = np.array(list(map(float, labelRecordList)))\n",
    "    return np.absolute(x),y\n",
    "    # return dataList"
   ]
  },
  {
   "cell_type": "code",
   "execution_count": 18,
   "metadata": {},
   "outputs": [],
   "source": [
    "import numpy as np\n",
    "dataPath =\"./data.txt\"\n",
    "labelPath = \"./label.txt\"\n",
    "tx,ty=loadFile(dataPath,labelPath)\n"
   ]
  },
  {
   "cell_type": "code",
   "execution_count": 21,
   "outputs": [
    {
     "name": "stdout",
     "output_type": "stream",
     "text": [
      "300\n",
      "88851 88851\n"
     ]
    }
   ],
   "source": [
    "print(len(tx[0]))\n",
    "print(len(tx),len(ty))"
   ],
   "metadata": {
    "collapsed": false,
    "pycharm": {
     "name": "#%%\n"
    }
   }
  },
  {
   "cell_type": "code",
   "execution_count": 26,
   "metadata": {},
   "outputs": [
    {
     "name": "stdout",
     "output_type": "stream",
     "text": [
      "Model: \"model_6\"\n",
      "_________________________________________________________________\n",
      "Layer (type)                 Output Shape              Param #   \n",
      "=================================================================\n",
      "input_8 (InputLayer)         [(None, 300)]             0         \n",
      "_________________________________________________________________\n",
      "embedding_5 (Embedding)      (None, 300, 128)          128000    \n",
      "_________________________________________________________________\n",
      "bidirectional_13 (Bidirectio (None, 300, 128)          98816     \n",
      "_________________________________________________________________\n",
      "bidirectional_14 (Bidirectio (None, 128)               98816     \n",
      "_________________________________________________________________\n",
      "dense_6 (Dense)              (None, 1)                 129       \n",
      "=================================================================\n",
      "Total params: 325,761\n",
      "Trainable params: 325,761\n",
      "Non-trainable params: 0\n",
      "_________________________________________________________________\n"
     ]
    }
   ],
   "source": [
    "import numpy as np\n",
    "from tensorflow import keras\n",
    "from tensorflow.keras import layers\n",
    "# from sklearn.model_selection import train_test_split\n",
    "\n",
    "\n",
    "inputs = keras.Input(shape=(300,))\n",
    "# Embed each integer in a 128-dimensional vector\n",
    "x = layers.Embedding(1000, 128)(inputs)\n",
    "# Add 2 bidirectional LSTMs\n",
    "x = layers.Bidirectional(layers.LSTM(64, return_sequences=True))(x)\n",
    "x = layers.Bidirectional(layers.LSTM(64))(x)\n",
    "# Add a classifier\n",
    "outputs = layers.Dense(1, activation=\"sigmoid\")(x)\n",
    "model = keras.Model(inputs, outputs)\n",
    "model.summary()\n",
    "\n",
    "\n",
    "\n"
   ]
  },
  {
   "cell_type": "code",
   "execution_count": 38,
   "metadata": {},
   "outputs": [
    {
     "name": "stdout",
     "output_type": "stream",
     "text": [
      "3000 300\n",
      "Epoch 1/4\n",
      "240/240 [==============================] - 91s 359ms/step - loss: 0.4649 - accuracy: 0.8008 - val_loss: 0.7815 - val_accuracy: 0.7067\n",
      "Epoch 2/4\n",
      "240/240 [==============================] - 94s 390ms/step - loss: 0.3501 - accuracy: 0.8392 - val_loss: 0.8804 - val_accuracy: 0.6917\n",
      "Epoch 3/4\n",
      "240/240 [==============================] - 93s 389ms/step - loss: 0.2921 - accuracy: 0.8800 - val_loss: 0.9186 - val_accuracy: 0.5767\n",
      "Epoch 4/4\n",
      "240/240 [==============================] - 93s 388ms/step - loss: 0.2350 - accuracy: 0.9058 - val_loss: 0.9837 - val_accuracy: 0.6467\n"
     ]
    },
    {
     "data": {
      "text/plain": "<keras.callbacks.History at 0x2a49ac807c0>"
     },
     "execution_count": 38,
     "metadata": {},
     "output_type": "execute_result"
    }
   ],
   "source": [
    "# train_x = np.random.random((20,300))\n",
    "# print(train_x.shape)\n",
    "# train_y = np.random.random((20,))\n",
    "# print(tx[2][7])\n",
    "# print(train_y.shape)\n",
    "# print(ty.shape)\n",
    "# val_x = np.random.random((200,))\n",
    "# val_y = np.random.random((200,))\n",
    "# print(val_x)\n",
    "train_x = tx[:3000]\n",
    "train_y = ty[:3000]\n",
    "print(len(train_x),len(train_x[0]))\n",
    "test_x = tx[-1000:]\n",
    "test_y = ty[-1000:]\n",
    "model.compile(\"adam\", \"binary_crossentropy\", metrics=[\"accuracy\"])\n",
    "model.fit(train_x, train_y, epochs=4, batch_size=10,validation_split=0.2)"
   ]
  },
  {
   "cell_type": "code",
   "execution_count": null,
   "outputs": [],
   "source": [],
   "metadata": {
    "collapsed": false,
    "pycharm": {
     "name": "#%%\n"
    }
   }
  },
  {
   "cell_type": "code",
   "execution_count": 42,
   "metadata": {},
   "outputs": [
    {
     "name": "stdout",
     "output_type": "stream",
     "text": [
      "30/30 [==============================] - 4s 119ms/step - loss: 0.1516 - accuracy: 0.9530\n",
      "test loss, test acc: [0.1515839546918869, 0.953000009059906]\n",
      "Generate predictions for 3 samples\n",
      "prediction: [[0.01189512]\n",
      " [0.98999596]\n",
      " [0.68185556]]\n"
     ]
    }
   ],
   "source": [
    "results = model.evaluate(train_x[:1000], train_y[:1000], batch_size=34)\n",
    "print(\"test loss, test acc:\", results)\n",
    "print(\"Generate predictions for 3 samples\")\n",
    "predictions = model.predict(tx[:3])\n",
    "print(\"prediction:\", predictions)"
   ]
  }
 ],
 "metadata": {
  "interpreter": {
   "hash": "dab8e41921a9804032d7b1bd163ac623c44de801f9b5a9764714bd0c64231e68"
  },
  "kernelspec": {
   "display_name": "Python 3.8.12 ('ML')",
   "language": "python",
   "name": "python3"
  },
  "language_info": {
   "codemirror_mode": {
    "name": "ipython",
    "version": 3
   },
   "file_extension": ".py",
   "mimetype": "text/x-python",
   "name": "python",
   "nbconvert_exporter": "python",
   "pygments_lexer": "ipython3",
   "version": "3.8.12"
  },
  "orig_nbformat": 4
 },
 "nbformat": 4,
 "nbformat_minor": 2
}
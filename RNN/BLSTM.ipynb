{
 "cells": [
  {
   "cell_type": "code",
   "execution_count": 16,
   "metadata": {},
   "outputs": [],
   "source": [
    "def loadFile(dataPath,labelPath):\n",
    "    dataList = []\n",
    "    labelList= []\n",
    "    #打开文件：以二进制读模式、utf-8格式的编码方式打开\n",
    "    frData = open(dataPath)\n",
    "    frLabel = open(labelPath)\n",
    "    dataRecord = frData.read()\n",
    "    labelRecord = frLabel.read()\n",
    "    # print(record)\n",
    "    frData.close()\n",
    "    frLabel.close()\n",
    "    #按照行转换为一维表即包含各行作为元素的列表，分隔符有'\\r', '\\r\\n', \\n'\n",
    "    dataRecordList = dataRecord.splitlines()\n",
    "    labelRecordList=labelRecord.splitlines()\n",
    "    #逐行遍历：行内字段按'\\t'分隔符分隔，转换为列表\n",
    "    for line in dataRecordList:\n",
    "        if line.strip():\n",
    "            a=line.split('\\t')\n",
    "            a.pop()\n",
    "            a=list(map(float, a))\n",
    "            dataList.append(a)\n",
    "    for line in labelRecordList:\n",
    "            if line.strip():\n",
    "                a=line.split()\n",
    "                # a.pop()\n",
    "                a=list(map(float, a))\n",
    "                if a[0]!=0:\n",
    "                    labelList.append(1)\n",
    "                else:\n",
    "                    labelList.append(0)\n",
    "            # dataList.append(list(line.split(\"\\t\")))\n",
    "    #返回转换后的矩阵\n",
    "    x = np.array(dataList)\n",
    "    y = np.array(labelList)\n",
    "    return x,y\n",
    "    # return dataList"
   ]
  },
  {
   "cell_type": "code",
   "execution_count": 17,
   "metadata": {},
   "outputs": [],
   "source": [
    "import numpy as np\n",
    "dataPath =\"./data.txt\"\n",
    "labelPath = \"./label.txt\"\n",
    "tx,ty=loadFile(dataPath,labelPath)\n"
   ]
  },
  {
   "cell_type": "code",
   "execution_count": 18,
   "outputs": [
    {
     "name": "stdout",
     "output_type": "stream",
     "text": [
      "300\n",
      "88851 88851\n",
      "[0 1 0 1 1 0 1 1 1 1 1 1 0 0 1 1 1 1 0 0 1 0 1 1 1 1 0 0 0 0 0 1 1 0 0 0 1\n",
      " 1 1 1 1 1 1 0 1 0 0 0 0 1 0 0 1 0 1 0 1 1 0 1 1 0 1 0 0 0 1 0 1 1 0 1 1 1\n",
      " 0 0 1 0 0 0 1 0 0 1 1 1 1 0 0 0 0 1 0 0 1 0 0 1 1 0]\n"
     ]
    }
   ],
   "source": [
    "print(len(tx[0]))\n",
    "print(len(tx),len(ty))\n",
    "print(ty[:100])"
   ],
   "metadata": {
    "collapsed": false,
    "pycharm": {
     "name": "#%%\n"
    }
   }
  },
  {
   "cell_type": "code",
   "execution_count": 28,
   "metadata": {},
   "outputs": [
    {
     "name": "stdout",
     "output_type": "stream",
     "text": [
      "Model: \"model_8\"\n",
      "_________________________________________________________________\n",
      "Layer (type)                 Output Shape              Param #   \n",
      "=================================================================\n",
      "input_9 (InputLayer)         [(None, 300)]             0         \n",
      "_________________________________________________________________\n",
      "reshape_3 (Reshape)          (None, 300, 1)            0         \n",
      "_________________________________________________________________\n",
      "bidirectional_16 (Bidirectio (None, 300, 256)          133120    \n",
      "_________________________________________________________________\n",
      "bidirectional_17 (Bidirectio (None, 256)               394240    \n",
      "_________________________________________________________________\n",
      "dense_8 (Dense)              (None, 1)                 257       \n",
      "=================================================================\n",
      "Total params: 527,617\n",
      "Trainable params: 527,617\n",
      "Non-trainable params: 0\n",
      "_________________________________________________________________\n"
     ]
    }
   ],
   "source": [
    "import numpy as np\n",
    "from tensorflow import keras\n",
    "from tensorflow.keras import layers\n",
    "# from sklearn.model_selection import train_test_split\n",
    "\n",
    "\n",
    "inputs = keras.Input(shape=(300,))\n",
    "x = layers.Reshape((300,1))(inputs)\n",
    "# Embed each integer in a 128-dimensional vector\n",
    "# x = layers.Embedding(1000, 30)(inputs)\n",
    "# Add 2 bidirectional LSTMs\n",
    "x = layers.Bidirectional(layers.LSTM(128, return_sequences=True))(x)\n",
    "x = layers.Bidirectional(layers.LSTM(128))(x)\n",
    "# Add a classifier\n",
    "outputs = layers.Dense(1, activation=\"sigmoid\")(x)\n",
    "model = keras.Model(inputs, outputs)\n",
    "model.summary()\n",
    "\n",
    "callbacks = [\n",
    "    keras.callbacks.EarlyStopping(\n",
    "        # 不再提升的关注指标\n",
    "        monitor='val_loss',\n",
    "        # 不再提升的阈值\n",
    "        min_delta=1e-3,\n",
    "        # 不再提升的轮次\n",
    "        patience=2,\n",
    "        verbose=1\n",
    "    ),\n",
    "    keras.callbacks.ModelCheckpoint(\n",
    "    # 模型路径\n",
    "    filepath='./BLSTM/model_{epoch}.h5',\n",
    "    # 是否保存最佳\n",
    "    save_best_only=True,\n",
    "    # 监控指标\n",
    "    monitor='val_accuracy',\n",
    "    # 进度条类型\n",
    "    verbose=1\n",
    "    )\n",
    "]\n",
    "\n",
    "model.compile(\"adam\",\n",
    "              \"binary_crossentropy\",\n",
    "              metrics=[\"accuracy\",\n",
    "                       \"Precision\",\n",
    "                       \"Recall\",\n",
    "                       \"TruePositives\",\n",
    "                       \"TrueNegatives\",\n",
    "                       \"FalsePositives\",\n",
    "                       \"FalseNegatives\"])\n",
    "\n"
   ]
  },
  {
   "cell_type": "code",
   "execution_count": null,
   "metadata": {
    "pycharm": {
     "is_executing": true
    }
   },
   "outputs": [
    {
     "name": "stdout",
     "output_type": "stream",
     "text": [
      "60000 300\n",
      "Epoch 1/10\n",
      " 25/750 [>.............................] - ETA: 1:00:27 - loss: 0.6093 - accuracy: 0.6687 - precision: 0.6738 - recall: 0.9282 - true_positives: 944.0000 - true_negatives: 126.0000 - false_positives: 457.0000 - false_negatives: 73.0000"
     ]
    }
   ],
   "source": [
    "\n",
    "train_x = tx[:60000]\n",
    "train_y = ty[:60000]\n",
    "print(len(train_x),len(train_x[0]))\n",
    "\n",
    "\n",
    "model.fit(train_x, train_y, epochs=10, batch_size=64,validation_split=0.2,callbacks=callbacks)\n",
    "model.save('./first_model.h5')"
   ]
  },
  {
   "cell_type": "code",
   "execution_count": 22,
   "outputs": [],
   "source": [
    "model.save('./first_model.h5')"
   ],
   "metadata": {
    "collapsed": false,
    "pycharm": {
     "name": "#%%\n"
    }
   }
  },
  {
   "cell_type": "code",
   "execution_count": 30,
   "outputs": [
    {
     "name": "stdout",
     "output_type": "stream",
     "text": [
      "Model: \"model_1\"\n",
      "_________________________________________________________________\n",
      "Layer (type)                 Output Shape              Param #   \n",
      "=================================================================\n",
      "input_2 (InputLayer)         [(None, 300)]             0         \n",
      "_________________________________________________________________\n",
      "embedding_1 (Embedding)      (None, 300, 128)          128000    \n",
      "_________________________________________________________________\n",
      "bidirectional_2 (Bidirection (None, 300, 128)          98816     \n",
      "_________________________________________________________________\n",
      "bidirectional_3 (Bidirection (None, 128)               98816     \n",
      "_________________________________________________________________\n",
      "dense_1 (Dense)              (None, 1)                 129       \n",
      "=================================================================\n",
      "Total params: 325,761\n",
      "Trainable params: 325,761\n",
      "Non-trainable params: 0\n",
      "_________________________________________________________________\n",
      "Epoch 1/4\n",
      "80/80 [==============================] - 224s 3s/step - loss: 0.1677 - accuracy: 0.9255 - val_loss: 0.4480 - val_accuracy: 0.8245\n",
      "Epoch 2/4\n",
      "80/80 [==============================] - 232s 3s/step - loss: 0.1364 - accuracy: 0.9421 - val_loss: 0.4408 - val_accuracy: 0.8510\n",
      "Epoch 3/4\n",
      "80/80 [==============================] - 230s 3s/step - loss: 0.1346 - accuracy: 0.9438 - val_loss: 0.4565 - val_accuracy: 0.8670\n",
      "Epoch 4/4\n",
      "80/80 [==============================] - 317s 4s/step - loss: 0.1087 - accuracy: 0.9519 - val_loss: 0.4820 - val_accuracy: 0.8535\n"
     ]
    },
    {
     "data": {
      "text/plain": "<keras.callbacks.History at 0x207a4fce3d0>"
     },
     "execution_count": 30,
     "metadata": {},
     "output_type": "execute_result"
    }
   ],
   "source": [
    "model = keras.models.load_model('./first_model.h5')\n",
    "# model1.summary()\n",
    "model.fit(train_x, train_y, epochs=4, batch_size=100,validation_split=0.2)"
   ],
   "metadata": {
    "collapsed": false,
    "pycharm": {
     "name": "#%%\n"
    }
   }
  },
  {
   "cell_type": "code",
   "execution_count": 86,
   "outputs": [
    {
     "name": "stdout",
     "output_type": "stream",
     "text": [
      "59966 60966\n"
     ]
    }
   ],
   "source": [
    "tt=int(np.random.randint(30000,80000))\n",
    "ttx=tt+1000\n",
    "print(tt,ttx)"
   ],
   "metadata": {
    "collapsed": false,
    "pycharm": {
     "name": "#%%\n"
    }
   }
  },
  {
   "cell_type": "code",
   "execution_count": 26,
   "metadata": {
    "pycharm": {
     "name": "#%%\n"
    }
   },
   "outputs": [
    {
     "name": "stdout",
     "output_type": "stream",
     "text": [
      "16/16 [==============================] - 5s 162ms/step - loss: 0.4815 - accuracy: 0.8270 - precision: 0.8730 - recall: 0.8339 - true_positives: 502.0000 - true_negatives: 325.0000 - false_positives: 73.0000 - false_negatives: 100.0000\n"
     ]
    }
   ],
   "source": [
    "tt=int(np.random.randint(30000,80000))\n",
    "ttx=tt+1000\n",
    "# print(tt,ttx)\n",
    "test_x = tx[-1000:]\n",
    "test_y = ty[-1000:]\n",
    "model = keras.models.load_model('./first_model.h5')\n",
    "results = model.evaluate(test_x, test_y, batch_size=64)\n",
    "# print(\"test loss, test acc:\", results)\n",
    "\n",
    "# predictions = model.predict(test_x)\n",
    "# list =[]\n",
    "# # print(\"prediction:\", predictions[0][0])\n",
    "# for i in range(len(test_x)):\n",
    "#     # print(\"prediction:\", predictions[i][0])\n",
    "#     if predictions[i][0] >= 0.5:\n",
    "#         list.append(1)\n",
    "#     else:\n",
    "#         list.append(0)\n",
    "# x=0\n",
    "# for i in range(len(test_x)):\n",
    "#     if list[i]==test_y[i]:\n",
    "#         x+=1\n",
    "#\n",
    "# # print(test_y[:100])\n",
    "# print(x/len(test_x))"
   ]
  }
 ],
 "metadata": {
  "interpreter": {
   "hash": "dab8e41921a9804032d7b1bd163ac623c44de801f9b5a9764714bd0c64231e68"
  },
  "kernelspec": {
   "display_name": "Python 3.8.12 ('ML')",
   "language": "python",
   "name": "python3"
  },
  "language_info": {
   "codemirror_mode": {
    "name": "ipython",
    "version": 3
   },
   "file_extension": ".py",
   "mimetype": "text/x-python",
   "name": "python",
   "nbconvert_exporter": "python",
   "pygments_lexer": "ipython3",
   "version": "3.8.12"
  },
  "orig_nbformat": 4
 },
 "nbformat": 4,
 "nbformat_minor": 2
}
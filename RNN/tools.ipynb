{
 "cells": [
  {
   "cell_type": "markdown",
   "metadata": {
    "pycharm": {
     "name": "#%% md\n"
    }
   },
   "source": [
    "# label_process"
   ]
  },
  {
   "cell_type": "code",
   "execution_count": 1,
   "metadata": {
    "collapsed": false,
    "jupyter": {
     "outputs_hidden": false
    },
    "pycharm": {
     "name": "#%%\n"
    }
   },
   "outputs": [
    {
     "name": "stderr",
     "output_type": "stream",
     "text": [
      "100%|██████████| 740143/740143 [00:00<00:00, 16301288.32it/s]\n",
      "100%|██████████| 9720791149/9720791149 [00:36<00:00, 269824685.02it/s]"
     ]
    },
    {
     "name": "stdout",
     "output_type": "stream",
     "text": [
      "29558 8\n"
     ]
    },
    {
     "name": "stderr",
     "output_type": "stream",
     "text": [
      "\n"
     ]
    }
   ],
   "source": [
    "import os\n",
    "import re\n",
    "\n",
    "from tqdm import tqdm\n",
    "\n",
    "label_path='../data/label_Juliet.txt'\n",
    "data_path='../data/data_Juliet.txt'\n",
    "\n",
    "\n",
    "train_label_path='../data/train_labelJuliet.txt'\n",
    "test_label_path='../data/test_labelJuliet.txt'\n",
    "validation_label_path='../data/validation_labelJuliet.txt'\n",
    "\n",
    "train_IR_path='../data/train_IRJuliet.txt'\n",
    "test_IR_path='../data/test_IRJuliet.txt'\n",
    "validation_IR_path='../data/validation_IRJuliet.txt'\n",
    "\n",
    "with tqdm(total=os.path.getsize(label_path)) as pbar:\n",
    "    with open(label_path,'r') as f1:\n",
    "        train_label=open(train_label_path,'a',encoding='UTF-8')\n",
    "        test_label=open(test_label_path,'a',encoding='UTF-8')\n",
    "        validation_label=open(validation_label_path,'a',encoding='UTF-8')\n",
    "        t=0\n",
    "        for line in f1:\n",
    "            t+=1\n",
    "            # print(str(t)+'\\n')\n",
    "            pbar.update(len(line))\n",
    "            if t<=6:\n",
    "                train_label.write(line)\n",
    "            elif t<=8:\n",
    "                test_label.write(line)\n",
    "            elif t<=10:\n",
    "                validation_label.write(line)\n",
    "                if t==10:\n",
    "                    t=0\n",
    "\n",
    "\n",
    "        train_label.close()\n",
    "        test_label.close()\n",
    "        validation_label.close()\n",
    "\n",
    "with tqdm(total=os.path.getsize(data_path)) as pbar:\n",
    "    with open(data_path,'r') as f1:\n",
    "        train_IR=open(train_IR_path,'a',encoding='UTF-8')\n",
    "        test_IR=open(test_IR_path,'a',encoding='UTF-8')\n",
    "        validation_IR=open(validation_IR_path,'a',encoding='UTF-8')\n",
    "        t=1\n",
    "        k=1\n",
    "        for line in f1:\n",
    "            pbar.update(len(line))\n",
    "            if t<=6:\n",
    "                train_IR.write(line)\n",
    "            elif t<=8:\n",
    "                test_IR.write(line)\n",
    "            elif t<=10:\n",
    "                validation_IR.write(line)\n",
    "            if line.find('#')!=-1:\n",
    "\n",
    "                t+=1\n",
    "                k+=1\n",
    "                if t==11:\n",
    "                    t=1\n",
    "\n",
    "        print(k,t)\n",
    "\n",
    "        train_IR.close()\n",
    "        test_IR.close()\n",
    "        validation_IR.close()\n"
   ]
  },
  {
   "cell_type": "code",
   "execution_count": 2,
   "metadata": {
    "collapsed": false,
    "jupyter": {
     "outputs_hidden": false
    },
    "pycharm": {
     "name": "#%%\n"
    }
   },
   "outputs": [
    {
     "name": "stdout",
     "output_type": "stream",
     "text": [
      "17736 5911 5910\n"
     ]
    }
   ],
   "source": [
    "train_label=open(train_label_path,'r',encoding='UTF-8')\n",
    "test_label=open(test_label_path,'r',encoding='UTF-8')\n",
    "validation_label=open(validation_label_path,'r',encoding='UTF-8')\n",
    "\n",
    "t1=train_label.readlines()\n",
    "t2=test_label.readlines()\n",
    "t3=validation_label.readlines()\n",
    "\n",
    "print(len(t1),len(t2),len(t3))\n",
    "train_label.close()\n",
    "test_label.close()\n",
    "validation_label.close()"
   ]
  },
  {
   "cell_type": "code",
   "execution_count": 55,
   "metadata": {
    "collapsed": false,
    "jupyter": {
     "outputs_hidden": false
    },
    "pycharm": {
     "name": "#%%\n"
    }
   },
   "outputs": [
    {
     "name": "stderr",
     "output_type": "stream",
     "text": [
      "100%|██████████| 293765750/293765750 [00:02<00:00, 107799176.30it/s]"
     ]
    },
    {
     "name": "stdout",
     "output_type": "stream",
     "text": [
      "1001 1\n"
     ]
    },
    {
     "name": "stderr",
     "output_type": "stream",
     "text": [
      "\n"
     ]
    }
   ],
   "source": [
    "import os\n",
    "from tqdm import tqdm\n",
    "\n",
    "# label_path='./label_Juliet2.txt'\n",
    "# data_path='./data_Juliet2.txt'\n",
    "#\n",
    "#\n",
    "# train_label_path='./data/train_labelJuliet.txt'\n",
    "# test_label_path='./data/test_labelJuliet.txt'\n",
    "# validation_label_path='./data/validation_labelJuliet.txt'\n",
    "#\n",
    "# train_IR_path='./data/train_IRJuliet.txt'\n",
    "# test_IR_path='./data/test_IRJuliet.txt'\n",
    "# validation_IR_path='./data/validation_IRJuliet.txt'\n",
    "\n",
    "# label_path='../data/label_Juliet.txt'\n",
    "# data_path='../data/data_Juliet.txt'\n",
    "#\n",
    "#\n",
    "# train_label_path='../data/train_labelJuliet.txt'\n",
    "# test_label_path='../data/test_labelJuliet.txt'\n",
    "# validation_label_path='../data/validation_labelJuliet.txt'\n",
    "#\n",
    "# train_IR_path='../data/train_IRJuliet.txt'\n",
    "# test_IR_path='../data/test_IRJuliet.txt'\n",
    "# validation_IR_path='../data/validation_IRJuliet.txt'\n",
    "\n",
    "\n",
    "\n"
   ]
  },
  {
   "cell_type": "code",
   "execution_count": 23,
   "metadata": {
    "collapsed": false,
    "jupyter": {
     "outputs_hidden": false
    },
    "pycharm": {
     "name": "#%%\n"
    }
   },
   "outputs": [
    {
     "name": "stdout",
     "output_type": "stream",
     "text": [
      "-1\n"
     ]
    }
   ],
   "source": [
    "import re\n",
    "pattern='#jlkjl'\n",
    "print(pattern.find('1'))"
   ]
  }
 ],
 "metadata": {
  "kernelspec": {
   "display_name": "Python 3 (ipykernel)",
   "language": "python",
   "name": "python3"
  },
  "language_info": {
   "codemirror_mode": {
    "name": "ipython",
    "version": 3
   },
   "file_extension": ".py",
   "mimetype": "text/x-python",
   "name": "python",
   "nbconvert_exporter": "python",
   "pygments_lexer": "ipython3",
   "version": "3.7.10"
  }
 },
 "nbformat": 4,
 "nbformat_minor": 4
}
